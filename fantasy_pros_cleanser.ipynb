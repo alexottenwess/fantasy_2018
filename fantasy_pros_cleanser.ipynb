{
 "cells": [
  {
   "cell_type": "code",
   "execution_count": 9,
   "metadata": {},
   "outputs": [],
   "source": [
    "import pandas as pd\n",
    "\n",
    "df = pd.read_csv('./fantasy_pros_values.csv')\n",
    "\n",
    "def remove_parens(row):\n",
    "    player_name_and_team = row['player']\n",
    "    player_name = player_name_and_team.split('(')[0].rstrip()\n",
    "    row['player'] = player_name\n",
    "    return row\n",
    "    \n",
    "df = df.apply(remove_parens, axis=1)\n",
    "df.to_csv('./cleaned_fantasy_pros_values.csv')\n"
   ]
  },
  {
   "cell_type": "code",
   "execution_count": null,
   "metadata": {
    "collapsed": true
   },
   "outputs": [],
   "source": []
  },
  {
   "cell_type": "code",
   "execution_count": null,
   "metadata": {
    "collapsed": true
   },
   "outputs": [],
   "source": []
  }
 ],
 "metadata": {
  "kernelspec": {
   "display_name": "Python 3",
   "language": "python",
   "name": "python3"
  },
  "language_info": {
   "codemirror_mode": {
    "name": "ipython",
    "version": 3
   },
   "file_extension": ".py",
   "mimetype": "text/x-python",
   "name": "python",
   "nbconvert_exporter": "python",
   "pygments_lexer": "ipython3",
   "version": "3.6.1"
  }
 },
 "nbformat": 4,
 "nbformat_minor": 2
}
